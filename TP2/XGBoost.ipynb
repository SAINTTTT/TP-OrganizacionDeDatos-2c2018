{
 "cells": [
  {
   "cell_type": "code",
   "execution_count": 1,
   "metadata": {},
   "outputs": [
    {
     "name": "stderr",
     "output_type": "stream",
     "text": [
      "/home/aaron/anaconda3/lib/python3.6/importlib/_bootstrap.py:219: RuntimeWarning: numpy.dtype size changed, may indicate binary incompatibility. Expected 96, got 88\n",
      "  return f(*args, **kwds)\n",
      "/home/aaron/anaconda3/lib/python3.6/importlib/_bootstrap.py:219: RuntimeWarning: numpy.dtype size changed, may indicate binary incompatibility. Expected 96, got 88\n",
      "  return f(*args, **kwds)\n",
      "/home/aaron/anaconda3/lib/python3.6/importlib/_bootstrap.py:219: RuntimeWarning: numpy.dtype size changed, may indicate binary incompatibility. Expected 96, got 88\n",
      "  return f(*args, **kwds)\n",
      "/home/aaron/anaconda3/lib/python3.6/importlib/_bootstrap.py:219: RuntimeWarning: numpy.dtype size changed, may indicate binary incompatibility. Expected 96, got 88\n",
      "  return f(*args, **kwds)\n"
     ]
    }
   ],
   "source": [
    "import pandas as pd\n",
    "import xgboost as xgb\n",
    "import numpy as np\n",
    "import matplotlib.pyplot as plt\n",
    "from sklearn.model_selection import train_test_split\n",
    "from sklearn.model_selection import GridSearchCV\n",
    "from sklearn.model_selection import KFold\n",
    "from sklearn.ensemble import VotingClassifier\n",
    "from sklearn.metrics import roc_auc_score\n",
    "\n"
   ]
  },
  {
   "cell_type": "code",
   "execution_count": 2,
   "metadata": {},
   "outputs": [],
   "source": [
    "train_data = pd.read_csv('train_data.csv',index_col = 0)\n",
    "test_kaggle = pd.read_csv('test_kaggle.csv',index_col=0)"
   ]
  },
  {
   "cell_type": "code",
   "execution_count": 3,
   "metadata": {},
   "outputs": [
    {
     "data": {
      "text/plain": [
       "Index(['person', 'label', 'Bom', 'Bom - Sem Touch ID', 'Excelente',\n",
       "       'Muito Bom', 'Novo', 'visitas_dom', 'visitas_lun', 'visitas_mar',\n",
       "       'visitas_mier', 'visitas_jue', 'visitas_vier', 'visitas_sab',\n",
       "       'conversiones_mean', 'vio_mas_de_5_veces', 'vio_color_mas_vendido',\n",
       "       'returns_por_persona_mean', 'solicito_brand_listing',\n",
       "       'productos_vistos_mean', 'busca_palabra_popular', '128GB', '16GB',\n",
       "       '256GB', '32GB', '4GB', '512MB', '64GB', '8GB', 'periodo_y',\n",
       "       'ad campaign hit_mean_y', 'brand listing_mean_y', 'checkout_mean_y',\n",
       "       'conversion_mean_y', 'generic listing_mean_y', 'lead_mean_y',\n",
       "       'search engine hit_mean_y', 'searched products_mean_y',\n",
       "       'staticpage_mean_y', 'viewed product_mean_y', 'visited site_mean_y',\n",
       "       'tiempo_ultima_conversion', 'timestamp_x', 'tiempo_ultimo_checkout',\n",
       "       'timestamp_y', 'tiempo_ultima_visita', 'timestamp_x.1',\n",
       "       'tiempo_ultimo_lead', 'tiempo_entre_conversiones_mean_log_x',\n",
       "       'timestamp_y.1', 'tiempo_entre_conversiones_mean_log_y',\n",
       "       'tiempo_entre_checkout_mean_log', 'vio_producto_popular', 'Apple',\n",
       "       'Motorola', 'Samsung', 'tiempo_entre_conversion_checkout', 'checkout',\n",
       "       'conversion', 'proporcion', 'region_encoder',\n",
       "       'cant_conversiones_ultimo_periodo', 'dias_desde_ultimo_evento',\n",
       "       'tiempo_desde_ultimo_evento', 'promedio_checkouts'],\n",
       "      dtype='object')"
      ]
     },
     "execution_count": 3,
     "metadata": {},
     "output_type": "execute_result"
    }
   ],
   "source": [
    "train_data.columns"
   ]
  },
  {
   "cell_type": "code",
   "execution_count": 4,
   "metadata": {},
   "outputs": [],
   "source": [
    "features = ['Bom', 'Bom - Sem Touch ID', 'Excelente',\n",
    "       'Muito Bom', 'Novo', 'visitas_dom', 'visitas_lun', 'visitas_jue', 'visitas_vier',\n",
    "       'conversiones_mean', 'vio_mas_de_5_veces', 'vio_color_mas_vendido',\n",
    "       'returns_por_persona_mean', 'solicito_brand_listing',\n",
    "       'productos_vistos_mean', '128GB',\n",
    "       '16GB', '256GB', '32GB', '4GB', '512MB', '64GB', '8GB', 'periodo_y',\n",
    "       'ad campaign hit_mean_y', 'brand listing_mean_y', 'checkout_mean_y',\n",
    "       'conversion_mean_y', 'generic listing_mean_y', 'lead_mean_y',\n",
    "       'search engine hit_mean_y', 'searched products_mean_y',\n",
    "       'staticpage_mean_y', 'viewed product_mean_y', 'visited site_mean_y',\n",
    "       'tiempo_ultima_conversion','tiempo_ultimo_checkout','tiempo_ultima_visita','tiempo_ultimo_lead','vio_producto_popular','Samsung', 'tiempo_entre_conversion_checkout', 'checkout',\n",
    "       'conversion', 'proporcion','cant_conversiones_ultimo_periodo','dias_desde_ultimo_evento']"
   ]
  },
  {
   "cell_type": "code",
   "execution_count": 5,
   "metadata": {},
   "outputs": [],
   "source": [
    "X = train_data[features]\n",
    "Y = train_data['label']\n",
    "\n",
    "X_train,X_test,Y_train,Y_test = train_test_split(X,Y)"
   ]
  },
  {
   "cell_type": "code",
   "execution_count": 7,
   "metadata": {},
   "outputs": [],
   "source": [
    "xgbRegressor_KFold = xgb.XGBRegressor()"
   ]
  },
  {
   "cell_type": "code",
   "execution_count": 6,
   "metadata": {},
   "outputs": [],
   "source": [
    "kfold = KFold(n_splits=10)"
   ]
  },
  {
   "cell_type": "code",
   "execution_count": 8,
   "metadata": {},
   "outputs": [
    {
     "name": "stdout",
     "output_type": "stream",
     "text": [
      "0.8375911175476708\n",
      "0.8426742584942876\n",
      "0.8715004830426603\n",
      "0.868382085755814\n",
      "0.8460955377574371\n",
      "0.8240281683192738\n",
      "0.8576706712433257\n",
      "0.8563591470258137\n",
      "0.8859033798972383\n",
      "0.8893404784842646\n"
     ]
    }
   ],
   "source": [
    "mejor_score = 0\n",
    "for train, test in kfold.split(X_train, Y_train):\n",
    "    train_datas = train_data.iloc[train]\n",
    "    test_datas = train_data.iloc[test]\n",
    "    \n",
    "    X_train_data = train_datas[features]\n",
    "    Y_train_data = train_datas['label']\n",
    "    \n",
    "    X_test_data = test_datas[features]\n",
    "    Y_test_data = test_datas['label']\n",
    "    \n",
    "    xgbRegressor_KFold.fit(X_train_data,Y_train_data)\n",
    "    print(roc_auc_score(Y_test_data,xgbRegressor_KFold.predict(X_test_data)))\n",
    "    if (roc_auc_score(Y_test_data, xgbRegressor_KFold.predict(X_test_data))>mejor_score):\n",
    "        mejor_score = roc_auc_score(Y_test_data,xgbRegressor_KFold.predict(X_test_data))\n",
    "        X_train_optimo = X_train_data\n",
    "        Y_train_optimo = Y_train_data\n",
    "        X_test_optimo = X_test_data\n",
    "        Y_test_optimo = Y_test_data"
   ]
  },
  {
   "cell_type": "code",
   "execution_count": 9,
   "metadata": {},
   "outputs": [],
   "source": [
    "params = {'objective':['binary:logistic'],'colsample_bytree': [0.5,.6,.7,.8,.9,1.0], 'learning_rate': [.07,.075,.08,.085,.09,.095,1.0],\n",
    "                'max_depth' : [1,2,3,4,5,6,7,8,9,10], 'n_estimators' : [80,85,90,95,100],'seed':[123]}"
   ]
  },
  {
   "cell_type": "code",
   "execution_count": 10,
   "metadata": {},
   "outputs": [],
   "source": [
    "cv = GridSearchCV(estimator=xgb.XGBRegressor(),param_grid=params,scoring='roc_auc',cv=3)"
   ]
  },
  {
   "cell_type": "code",
   "execution_count": 11,
   "metadata": {},
   "outputs": [],
   "source": [
    "dmatrix = xgb.DMatrix(data=X_train_optimo[features],label=Y_train_optimo,feature_names=features)"
   ]
  },
  {
   "cell_type": "code",
   "execution_count": 12,
   "metadata": {
    "scrolled": true
   },
   "outputs": [
    {
     "data": {
      "text/plain": [
       "GridSearchCV(cv=3, error_score='raise',\n",
       "       estimator=XGBRegressor(base_score=0.5, booster='gbtree', colsample_bylevel=1,\n",
       "       colsample_bytree=1, gamma=0, learning_rate=0.1, max_delta_step=0,\n",
       "       max_depth=3, min_child_weight=1, missing=None, n_estimators=100,\n",
       "       n_jobs=1, nthread=None, objective='reg:linear', random_state=0,\n",
       "       reg_alpha=0, reg_lambda=1, scale_pos_weight=1, seed=None,\n",
       "       silent=True, subsample=1),\n",
       "       fit_params=None, iid=True, n_jobs=1,\n",
       "       param_grid={'objective': ['binary:logistic'], 'colsample_bytree': [0.5, 0.6, 0.7, 0.8, 0.9, 1.0], 'learning_rate': [0.07, 0.075, 0.08, 0.085, 0.09, 0.095, 1.0], 'max_depth': [1, 2, 3, 4, 5, 6, 7, 8, 9, 10], 'n_estimators': [80, 85, 90, 95, 100], 'seed': [123]},\n",
       "       pre_dispatch='2*n_jobs', refit=True, return_train_score='warn',\n",
       "       scoring='roc_auc', verbose=0)"
      ]
     },
     "execution_count": 12,
     "metadata": {},
     "output_type": "execute_result"
    }
   ],
   "source": [
    "cv.fit(X_train_optimo,Y_train_optimo)"
   ]
  },
  {
   "cell_type": "code",
   "execution_count": 13,
   "metadata": {},
   "outputs": [
    {
     "data": {
      "text/plain": [
       "0.8580160485077319"
      ]
     },
     "execution_count": 13,
     "metadata": {},
     "output_type": "execute_result"
    }
   ],
   "source": [
    "cv.best_score_"
   ]
  },
  {
   "cell_type": "code",
   "execution_count": 14,
   "metadata": {},
   "outputs": [
    {
     "data": {
      "text/plain": [
       "{'colsample_bytree': 0.5,\n",
       " 'learning_rate': 0.085,\n",
       " 'max_depth': 3,\n",
       " 'n_estimators': 80,\n",
       " 'objective': 'binary:logistic',\n",
       " 'seed': 123}"
      ]
     },
     "execution_count": 14,
     "metadata": {},
     "output_type": "execute_result"
    }
   ],
   "source": [
    "cv.best_params_"
   ]
  },
  {
   "cell_type": "code",
   "execution_count": 18,
   "metadata": {},
   "outputs": [],
   "source": [
    "x = cv.best_estimator_"
   ]
  },
  {
   "cell_type": "code",
   "execution_count": 15,
   "metadata": {},
   "outputs": [],
   "source": [
    "xgbRegressor = xgb.XGBRegressor(base_score=0.5, booster='gbtree', colsample_bylevel=1,\n",
    "       colsample_bytree=1.0, gamma=1, learning_rate=0.075,\n",
    "       max_delta_step=0, max_depth=4, min_child_weight=1, missing=None,\n",
    "       n_estimators=95, n_jobs=1, nthread=None,\n",
    "       objective='binary:logistic', random_state=0, reg_alpha=0,\n",
    "       reg_lambda=1, scale_pos_weight=0.8, seed=15, silent=True,\n",
    "       subsample=0.8)\n",
    "\n"
   ]
  },
  {
   "cell_type": "code",
   "execution_count": 81,
   "metadata": {},
   "outputs": [],
   "source": [
    "#params = {'objective':'binary:logistic','colsample_bytree': 0.5, 'learning_rate': 1.0,\n",
    "                #'max_depth' : 10, 'n_estimators' : 20,'seed':123}\n",
    "\n",
    "#xgb.cv(dtrain=dmatrix,params=params)"
   ]
  },
  {
   "cell_type": "code",
   "execution_count": 19,
   "metadata": {},
   "outputs": [
    {
     "data": {
      "text/plain": [
       "XGBRegressor(base_score=0.5, booster='gbtree', colsample_bylevel=1,\n",
       "       colsample_bytree=0.5, gamma=0, learning_rate=0.085,\n",
       "       max_delta_step=0, max_depth=3, min_child_weight=1, missing=None,\n",
       "       n_estimators=80, n_jobs=1, nthread=None,\n",
       "       objective='binary:logistic', random_state=0, reg_alpha=0,\n",
       "       reg_lambda=1, scale_pos_weight=1, seed=123, silent=True,\n",
       "       subsample=1)"
      ]
     },
     "execution_count": 19,
     "metadata": {},
     "output_type": "execute_result"
    }
   ],
   "source": [
    "xgbRegressor.fit(X_train_optimo,Y_train_optimo)"
   ]
  },
  {
   "cell_type": "code",
   "execution_count": 21,
   "metadata": {},
   "outputs": [
    {
     "data": {
      "text/plain": [
       "0.8874538375080282"
      ]
     },
     "execution_count": 21,
     "metadata": {},
     "output_type": "execute_result"
    }
   ],
   "source": [
    "roc_auc_score(Y_test_optimo,x.predict(X_test_optimo))"
   ]
  },
  {
   "cell_type": "code",
   "execution_count": 22,
   "metadata": {},
   "outputs": [],
   "source": [
    "xg_reg = xgb.train(params={'base_score':0.5, 'booster':'gbtree', 'colsample_bylevel':1,\n",
    "'colsample_bytree':1, 'gamma':1,'learning_rate':0.075, 'max_delta_step':0,\n",
    "'max_depth':4, 'min_child_weight':1, 'n_estimators':95,\n",
    "'n_jobs':1, 'objective':'binary:logistic', 'random_state':0,\n",
    "'reg_alpha':0,'reg_lambda':1, 'scale_pos_weight':0.8,\n",
    "'silent':True, 'subsample':0.8}, dtrain=dmatrix, num_boost_round=10)"
   ]
  },
  {
   "cell_type": "code",
   "execution_count": 23,
   "metadata": {},
   "outputs": [
    {
     "data": {
      "image/png": "[encoded data removed]",
      "text/plain": [
       "<Figure size 432x288 with 1 Axes>"
      ]
     },
     "metadata": {},
     "output_type": "display_data"
    }
   ],
   "source": [
    "xgb.plot_importance(xg_reg)\n",
    "plt.rcParams['figure.figsize'] = [10, 10]\n",
    "plt.show()"
   ]
  },
  {
   "cell_type": "markdown",
   "metadata": {},
   "source": [
    "# Test Kaggle"
   ]
  },
  {
   "cell_type": "code",
   "execution_count": 373,
   "metadata": {},
   "outputs": [],
   "source": [
    "test_kaggle['prediction'] = xgbRegressor.predict(test_kaggle[features])"
   ]
  },
  {
   "cell_type": "code",
   "execution_count": 374,
   "metadata": {},
   "outputs": [],
   "source": [
    "submit_kaggle = pd.DataFrame({'person':test_kaggle['person'],'label':test_kaggle['prediction']})"
   ]
  },
  {
   "cell_type": "code",
   "execution_count": 375,
   "metadata": {},
   "outputs": [],
   "source": [
    "submit_kaggle['label'] = submit_kaggle['label'].transform(lambda x: 0.0 if x < 0.0 else x)\n",
    "submit_kaggle['label'] = submit_kaggle['label'].transform(lambda x: 1.0 if x > 1.0 else x)"
   ]
  },
  {
   "cell_type": "code",
   "execution_count": 376,
   "metadata": {},
   "outputs": [],
   "source": [
    "submit_kaggle.reset_index(inplace = True)\n",
    "submit_kaggle.drop(columns='index',inplace=True)\n",
    "submit_kaggle.set_index(keys='person',inplace=True)"
   ]
  },
  {
   "cell_type": "code",
   "execution_count": 377,
   "metadata": {},
   "outputs": [],
   "source": [
    "submit_kaggle.to_csv('submit_kaggle.csv')"
   ]
  },
  {
   "cell_type": "code",
   "execution_count": null,
   "metadata": {},
   "outputs": [],
   "source": []
  }
 ],
 "metadata": {
  "kernelspec": {
   "display_name": "Python 3",
   "language": "python",
   "name": "python3"
  },
  "language_info": {
   "codemirror_mode": {
    "name": "ipython",
    "version": 3
   },
   "file_extension": ".py",
   "mimetype": "text/x-python",
   "name": "python",
   "nbconvert_exporter": "python",
   "pygments_lexer": "ipython3",
   "version": "3.6.5"
  }
 },
 "nbformat": 4,
 "nbformat_minor": 2
}
